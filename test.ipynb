{
 "cells": [
  {
   "cell_type": "code",
   "execution_count": 6,
   "metadata": {},
   "outputs": [
    {
     "name": "stdout",
     "output_type": "stream",
     "text": [
      "Loaded Table 3  Species by kingdom and class - show all: (74, 16) rows and columns\n",
      "Loaded Table 4a Animal species (kingdom Animalia) by class and order - show all: (283, 16) rows and columns\n",
      "Loaded Table 4b Plant species (kingdom Plantae) by class and family - show all: (520, 16) rows and columns\n",
      "Loaded Table 4c Fungus species (kingdom Fungi) by class and order - show all: (50, 16) rows and columns\n",
      "Loaded Table 4d Chromist species (kingdom Chromista) by class and order - show all: (7, 16) rows and columns\n",
      "Loaded Table 5  Threatened species in each major group by country - show all: (250, 12) rows and columns\n",
      "Loaded Table 6a Animal species (kingdom Animalia) by country - show all: (250, 16) rows and columns\n",
      "Loaded Table 6b Plant species (kingdom Plantae) by country - show all: (250, 16) rows and columns\n",
      "Loaded Table 6c Fungus species (kingdom Fungi) by country - show all: (250, 16) rows and columns\n",
      "Loaded Table 6d Chromist species (kingdom Chromista) by country - show all: (250, 16) rows and columns\n",
      "List of all column names across DataFrames:\n",
      "['CR(PE)', 'EX', 'Plants*', 'Mammals', 'Amphibians', 'EN', 'CR(PEW)', 'DD', 'NT or LR/nt', 'Other Inverts*', 'VU', 'Total', 'CR', 'Chromists*', 'Fungi*', 'Birds', 'LR/cd', 'EW', 'Subtotal (EX+EW+ CR(PE)+CR(PEW))', 'Subtotal (EX+EW)', 'Molluscs*', 'Subtotal (threatened spp.)', 'Fishes*', 'Name', 'LC or LR/lc', 'Reptiles*']\n",
      "26\n"
     ]
    }
   ],
   "source": [
    "import os\n",
    "import pandas as pd\n",
    "\n",
    "def load_csv_dataframes(folder_path):\n",
    "    \"\"\"\n",
    "    Load all CSV files from the specified folder into DataFrames.\n",
    "\n",
    "    Parameters:\n",
    "    folder_path (str): Path to the folder containing the CSV files.\n",
    "\n",
    "    Returns:\n",
    "    dict: A dictionary with file names (without extensions) as keys and DataFrames as values.\n",
    "    \"\"\"\n",
    "    dataframes = {}\n",
    "\n",
    "    for file_name in os.listdir(folder_path):\n",
    "        if file_name.endswith('.csv'):\n",
    "            file_path = os.path.join(folder_path, file_name)\n",
    "            try:\n",
    "                df = pd.read_csv(file_path)\n",
    "                base_name = os.path.splitext(file_name)[0]\n",
    "                dataframes[base_name] = df\n",
    "            except Exception as e:\n",
    "                print(f\"Error loading {file_name}: {e}\")\n",
    "\n",
    "    return dataframes\n",
    "\n",
    "folder = \"Datas\"\n",
    "dfs = load_csv_dataframes(folder)\n",
    "\n",
    "for name, df in dfs.items():\n",
    "    print(f\"Loaded {name}: {df.shape} rows and columns\")\n",
    "\n",
    "all_columns = set()\n",
    "\n",
    "for df_name, df in dfs.items():\n",
    "    all_columns.update(df.columns)\n",
    "\n",
    "common_columns_list = list(all_columns)\n",
    "\n",
    "print(\"List of all column names across DataFrames:\")\n",
    "print(common_columns_list)\n",
    "print(len(common_columns_list))\n"
   ]
  },
  {
   "cell_type": "code",
   "execution_count": 11,
   "metadata": {},
   "outputs": [
    {
     "name": "stdout",
     "output_type": "stream",
     "text": [
      "DataFrames with no 'dd' in their column names:\n",
      "['Table 5  Threatened species in each major group by country - show all']\n"
     ]
    }
   ],
   "source": [
    "# Liste des DataFrames qui ne contiennent pas \"dd\" dans le nom de leurs colonnes\n",
    "dfs_without_dd = {}\n",
    "\n",
    "for df_name, df in dfs.items():\n",
    "    # Vérifier si aucune colonne ne contient \"dd\"\n",
    "    if not any('DD' in col for col in df.columns):\n",
    "        dfs_without_dd[df_name] = df\n",
    "\n",
    "# Afficher les noms des DataFrames qui n'ont pas \"dd\" dans les colonnes\n",
    "print(\"DataFrames with no 'dd' in their column names:\")\n",
    "print(list(dfs_without_dd.keys()))\n"
   ]
  },
  {
   "cell_type": "code",
   "execution_count": 16,
   "metadata": {},
   "outputs": [],
   "source": [
    "def clean_dd_column(dataframes):\n",
    "    \"\"\"\n",
    "    Clean the 'dd' column in all DataFrames by removing commas and converting to numeric.\n",
    "\n",
    "    Parameters:\n",
    "    dataframes (dict): A dictionary of DataFrames.\n",
    "\n",
    "    Returns:\n",
    "    dict: Updated dictionary with cleaned 'dd' columns (if present).\n",
    "    \"\"\"\n",
    "    for df_name, df in dataframes.items():\n",
    "        if 'DD' in df.columns:  # Vérifier si la colonne 'dd' existe\n",
    "            try:\n",
    "                # Remplacer les virgules et convertir en numérique\n",
    "                df['DD'] = df['DD'].replace(',', '', regex=True).astype(float)\n",
    "            except Exception as e:\n",
    "                print(f\"Error processing 'dd' column in {df_name}: {e}\")\n",
    "    return dataframes\n",
    "\n",
    "dfs = clean_dd_column(dfs)"
   ]
  },
  {
   "cell_type": "code",
   "execution_count": 17,
   "metadata": {},
   "outputs": [
    {
     "data": {
      "text/plain": [
       "{'Table 3  Species by kingdom and class - show all': np.float64(44080.0),\n",
       " 'Table 4a Animal species (kingdom Animalia) by class and order - show all': np.float64(31734.0),\n",
       " 'Table 4b Plant species (kingdom Plantae) by class and family - show all': np.float64(11996.0),\n",
       " 'Table 4c Fungus species (kingdom Fungi) by class and order - show all': np.float64(326.0),\n",
       " 'Table 4d Chromist species (kingdom Chromista) by class and order - show all': np.float64(24.0),\n",
       " 'Table 6a Animal species (kingdom Animalia) by country - show all': np.float64(32799.0),\n",
       " 'Table 6b Plant species (kingdom Plantae) by country - show all': np.float64(8464.0),\n",
       " 'Table 6c Fungus species (kingdom Fungi) by country - show all': np.float64(190.0),\n",
       " 'Table 6d Chromist species (kingdom Chromista) by country - show all': np.float64(12.0)}"
      ]
     },
     "execution_count": 17,
     "metadata": {},
     "output_type": "execute_result"
    }
   ],
   "source": [
    "# Compter les occurrences de dd == 1 pour les DataFrames contenant une colonne 'dd'\n",
    "dd_counts = {}\n",
    "\n",
    "for df_name, df in dfs.items():\n",
    "    if 'DD' in df.columns:  # Vérifier si 'dd' est une colonne\n",
    "        count = df['DD'].sum()  # Compter les occurrences de dd == 1\n",
    "        dd_counts[df_name] = count\n",
    "\n",
    "dd_counts\n",
    "# # Afficher les résultats\n",
    "# print(\"Count of 'dd == 1' for each DataFrame containing 'dd':\")\n",
    "# for name, count in dd_counts.items():\n",
    "#     print(f\"{name}: {count}\")"
   ]
  },
  {
   "cell_type": "markdown",
   "metadata": {},
   "source": [
    "## IUCN Red List Categories and Descriptions\n",
    "\n",
    "The IUCN Red List categorizes species based on their risk of extinction. Below are the main categories:\n",
    "\n",
    "- **EX - Extinct**: The species is no longer observed despite exhaustive surveys in its known habitat.\n",
    "- **EW - Extinct in the Wild**: Survives only in captivity, cultivation, or reintroduced populations outside its historical range.\n",
    "- **CR - Critically Endangered**: Faces an extremely high risk of extinction in the immediate future.\n",
    "  - **CR(PE)**: Possibly Extinct – Likely extinct but requires confirmation.\n",
    "  - **CR(PEW)**: Possibly Extinct in the Wild – Likely extinct in the wild but alive in captivity.\n",
    "- **EN - Endangered**: Faces a very high risk of extinction in the near future.\n",
    "- **VU - Vulnerable**: Faces a high risk of extinction in the medium term.\n",
    "- **NT - Near Threatened**: Close to meeting the criteria for a threatened category.\n",
    "- **LC - Least Concern**: Widespread and abundant, not at risk of extinction.\n",
    "- **DD - Data Deficient**: Insufficient data to assess the risk of extinction.\n",
    "- **LR/cd - Lower Risk/conservation dependent**: Not currently threatened but dependent on ongoing conservation efforts.\n",
    "\n",
    "**Note**: CR(PE) and CR(PEW) are not official IUCN categories but are used to highlight potentially extinct species.\n",
    "\n",
    "Visit the [IUCN Red List website](https://www.iucnredlist.org) for more information.\n"
   ]
  },
  {
   "cell_type": "markdown",
   "metadata": {},
   "source": []
  }
 ],
 "metadata": {
  "kernelspec": {
   "display_name": "venv",
   "language": "python",
   "name": "python3"
  },
  "language_info": {
   "codemirror_mode": {
    "name": "ipython",
    "version": 3
   },
   "file_extension": ".py",
   "mimetype": "text/x-python",
   "name": "python",
   "nbconvert_exporter": "python",
   "pygments_lexer": "ipython3",
   "version": "3.12.8"
  }
 },
 "nbformat": 4,
 "nbformat_minor": 2
}
